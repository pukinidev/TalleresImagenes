{
 "cells": [
  {
   "cell_type": "markdown",
   "metadata": {},
   "source": [
    "[![Open In Colab](https://colab.research.google.com/assets/colab-badge.svg)](https://colab.research.google.com/github/ee-ortiz/ISIS-4825_202510_IMAGENES_Y_VISION/blob/main/Laboratorio_07/Taller/MISIS4825_Laboratorio07_Taller.ipynb)"
   ]
  },
  {
   "cell_type": "markdown",
   "metadata": {},
   "source": [
    "![image](https://drive.google.com/u/0/uc?id=15DUc09hFGqR8qcpYiN1OajRNaASmiL6d&export=download)"
   ]
  },
  {
   "cell_type": "markdown",
   "metadata": {},
   "source": [
    "# Laboratorio 07 - Taller: Redes Neuronales Convolucionales\n",
    "\n",
    "En este taller profundizaremos en el diseño, implementación y optimización de redes neuronales convolucionales (CNNs) para tareas de clasificación de imágenes. Utilizaremos el conjunto de datos **Covid-19 Chest X-Ray Images**, el cual contiene imágenes de radiografías de tórax de personas diagnosticadas con COVID-19 y personas sin la enfermedad.\n",
    "\n",
    "El objetivo principal es construir y optimizar modelos de CNN propios que permitan distinguir entre las diferentes clases presentes en el dataset.\n",
    "\n",
    "\n",
    "## Instrucciones del Taller\n",
    "\n",
    "### 1. Diseño y Construcción de una Red Convolucional Propia\n",
    "\n",
    "- **Arquitectura de la CNN:**  \n",
    "  Diseñe una arquitectura de CNN personalizada utilizando Keras. Explique las decisiones tomadas en cada etapa, tales como:\n",
    "  - Número y tipo de capas convolucionales.\n",
    "  - Tamaño de los filtros y kernels.\n",
    "  - Elección de las capas de pooling (MaxPooling2D, AveragePooling2D, etc.).\n",
    "  - Funciones de activación utilizadas (por ejemplo, ReLU).\n",
    "  - Implementación de técnicas de regularización (por ejemplo, Dropout) para prevenir el sobreajuste.\n",
    "- **Preprocesamiento de Datos:**  \n",
    "  Realice el preprocesamiento adecuado de los datos, como reescalado (normalización) y data augmentation, y divida el conjunto de datos en entrenamiento, validación y test.\n",
    "- **Documentación:**  \n",
    "  Justifique las decisiones de diseño y preprocesamiento, explicando cómo cada elección impacta el rendimiento del modelo.\n",
    "\n",
    "### 2. Experimentación y Optimización del Modelo\n",
    "\n",
    "- **Ajuste de Arquitectura y Hiperparámetros:**  \n",
    "  Realice experimentos modificando la arquitectura base de su CNN. Algunas ideas incluyen:\n",
    "  - Variar el número de capas convolucionales y neuronas en las capas densas.\n",
    "  - Ajustar los parámetros de las capas de pooling.\n",
    "  - Modificar la tasa de Dropout, la tasa de aprendizaje, y el tamaño del batch.\n",
    "- **Evaluación de Resultados:**  \n",
    "  Documente y analice los resultados obtenidos en cada experimento. Utilice métricas como precisión, recall, F1-score y la matriz de confusión para evaluar el desempeño.\n",
    "- **Visualización:**  \n",
    "  Genere gráficos que muestren la evolución de la precisión y la pérdida durante el entrenamiento, así como las matrices de confusión para comparar las distintas configuraciones.\n",
    "\n",
    "### 3. Análisis y Discusión de Resultados\n",
    "\n",
    "- **Comparación de Experimentos:**  \n",
    "  Compare el rendimiento de su modelo base con las variantes experimentales. Analice y discuta:\n",
    "  - ¿Qué impacto tiene la profundidad de la red y el número de filtros en la capacidad de aprendizaje?\n",
    "  - ¿Cómo influyen las técnicas de regularización (por ejemplo, Dropout) en la capacidad de generalización del modelo?\n",
    "  - ¿Qué mejoras adicionales se podrían implementar para optimizar aún más el rendimiento del modelo?\n",
    "- **Reflexión:**  \n",
    "  Plantee conclusiones y proponga futuras líneas de trabajo o posibles ajustes en la arquitectura que podrían mejorar la clasificación.\n",
    "\n",
    "\n",
    "**Datos:** [Covid-19 Chest X-Ray Images](https://www.kaggle.com/datasets/sachinkumar413/cxr-2-classes)"
   ]
  }
 ],
 "metadata": {
  "language_info": {
   "name": "python"
  }
 },
 "nbformat": 4,
 "nbformat_minor": 2
}
